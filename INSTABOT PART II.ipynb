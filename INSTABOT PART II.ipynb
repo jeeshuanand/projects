{
 "cells": [
  {
   "cell_type": "code",
   "execution_count": 18,
   "metadata": {},
   "outputs": [],
   "source": [
    "from selenium import webdriver\n",
    "from selenium.webdriver.support.ui import WebDriverWait                    \n",
    "from selenium.webdriver.support import expected_conditions as EC           \n",
    "from selenium.webdriver.common.by import By \n",
    "driver =webdriver.Chrome(executable_path=\"D:\\chromedriver_win32\\chromedriver.exe\")\n",
    "driver.get('https://www.instagram.com/?hl=en')\n",
    "driver.implicitly_wait(5)\n",
    "login_username=driver.find_element_by_name(\"username\")\n",
    "login_password=driver.find_element_by_name('password')\n",
    "login_username.send_keys('username')\n",
    "login_password.send_keys('password')\n",
    "login_password.submit()\n",
    "wait = WebDriverWait(driver, 20)"
   ]
  },
  {
   "cell_type": "code",
   "execution_count": 19,
   "metadata": {},
   "outputs": [
    {
     "data": {
      "text/plain": [
       "['foodnetwork',\n",
       " 'foodtalkindia',\n",
       " 'foodie_incarnate',\n",
       " 'food_belly11',\n",
       " 'foodconnectindia',\n",
       " 'yourfoodlab',\n",
       " 'food',\n",
       " 'dilsefoodie',\n",
       " 'food_lunatic',\n",
       " 'foodlookingdigital']"
      ]
     },
     "execution_count": 19,
     "metadata": {},
     "output_type": "execute_result"
    }
   ],
   "source": [
    "search_bar=driver.find_element_by_class_name(\"XTCLo\")\n",
    "search_bar.send_keys('food')\n",
    "food_name=driver.find_elements_by_class_name(\"Ap253\")\n",
    "food_list=[]\n",
    "count=0\n",
    "for i in food_name:\n",
    "    if i.get_attribute('innerHTML')[0]=='#':\n",
    "        continue\n",
    "    elif count!=10:\n",
    "        food_list.append(i.get_attribute('innerHTML'))\n",
    "        count+=1\n",
    "food_list"
   ]
  },
  {
   "cell_type": "code",
   "execution_count": 20,
   "metadata": {},
   "outputs": [
    {
     "name": "stdout",
     "output_type": "stream",
     "text": [
      "foodnetwork ---> 10405817\n",
      "yourfoodlab ---> 1325276\n",
      "dilsefoodie ---> 565115\n",
      "foodtalkindia ---> 298982\n",
      "foodie_incarnate ---> 209947\n"
     ]
    }
   ],
   "source": [
    "dict={}\n",
    "search_bar=driver.find_element_by_class_name(\"XTCLo\")\n",
    "for i in food_list:\n",
    "    if i=='food':\n",
    "        continue\n",
    "    search_bar=driver.find_element_by_class_name(\"XTCLo\")\n",
    "    search_bar.clear()\n",
    "    search_bar=driver.find_element_by_class_name(\"XTCLo\")\n",
    "    search_bar.send_keys(i)\n",
    "    #driver.implicitly_wait(10)\n",
    "    b = wait.until(EC.presence_of_element_located((By.CLASS_NAME,'z556c')))\n",
    "    b.click()\n",
    "    #driver.find_element_by_class_name(\"z556c\").click()\n",
    "    followers=driver.find_elements_by_class_name(\"g47SY\")\n",
    "    for j in followers:\n",
    "        if j.get_attribute('title')!='':\n",
    "            a=j.get_attribute('title')\n",
    "    li=a.split(',')\n",
    "    b=''.join(li)\n",
    "    c=int(b)\n",
    "    dict[i]=c\n",
    "    driver.back()\n",
    "sort_orders = sorted(dict.items(), key=lambda x: x[1], reverse=True)[:5]\n",
    "for i in sort_orders:\n",
    "    print(i[0],\"--->\",i[1])"
   ]
  },
  {
   "cell_type": "code",
   "execution_count": 21,
   "metadata": {},
   "outputs": [
    {
     "data": {
      "text/plain": [
       "{'foodnetwork': 40,\n",
       " 'yourfoodlab': 4,\n",
       " 'dilsefoodie': 7,\n",
       " 'foodtalkindia': 5,\n",
       " 'foodie_incarnate': 5}"
      ]
     },
     "execution_count": 21,
     "metadata": {},
     "output_type": "execute_result"
    }
   ],
   "source": [
    "dict={}\n",
    "for i in sort_orders:\n",
    "    handle=i[0]\n",
    "    search_bar=driver.find_element_by_class_name(\"XTCLo\")\n",
    "    search_bar.clear()\n",
    "    search_bar.send_keys(handle)\n",
    "    #driver.implicitly_wait(10)\n",
    "    b = wait.until(EC.presence_of_element_located((By.CLASS_NAME,'z556c')))\n",
    "    b.click()\n",
    "    #driver.find_element_by_class_name(\"z556c\").click()\n",
    "    #driver.implicitly_wait(10)\n",
    "    c = wait.until(EC.presence_of_element_located((By.CLASS_NAME,'_9AhH0')))\n",
    "    c.click()\n",
    "    #driver.find_element_by_class_name(\"_9AhH0\").click()\n",
    "    count=0\n",
    "    while True:\n",
    "        time=driver.find_element_by_class_name(\"_1o9PC\")\n",
    "        a=time.get_attribute('innerHTML')\n",
    "        b=a.split(' ')\n",
    "        if (b[1]=='hours'or b[1]=='minutes'):\n",
    "            count+=1\n",
    "        elif (b[0]=='1'or b[0]=='2'or b[0]=='3'):\n",
    "            count+=1\n",
    "        else:\n",
    "            break\n",
    "        driver.find_element_by_class_name(\"_65Bje\").click()\n",
    "    driver.find_element_by_class_name(\"Igw0E.IwRSH.eGOV_._4EzTm.BI4qX.qJPeX.fm1AK.TxciK.yiMZG\").click()\n",
    "    dict[handle]=count\n",
    "dict"
   ]
  },
  {
   "cell_type": "code",
   "execution_count": 22,
   "metadata": {},
   "outputs": [
    {
     "name": "stdout",
     "output_type": "stream",
     "text": [
      "['foodnetwork', 'yourfoodlab', 'dilsefoodie', 'foodtalkindia', 'foodie_incarnate'] [40, 4, 7, 5, 5] [10405817, 1325276, 565115, 298982, 209947]\n"
     ]
    }
   ],
   "source": [
    "insta_handle=[]\n",
    "posts=[]\n",
    "followers=[]\n",
    "for i in sort_orders:\n",
    "    insta_handle.append(i[0])\n",
    "    followers.append(i[1])\n",
    "for i in dict:\n",
    "    posts.append(dict[i])\n",
    "print(insta_handle,posts,followers)"
   ]
  },
  {
   "cell_type": "code",
   "execution_count": 23,
   "metadata": {},
   "outputs": [
    {
     "data": {
      "image/png": "[encoded data removed]",
      "text/plain": [
       "<Figure size 432x288 with 1 Axes>"
      ]
     },
     "metadata": {
      "needs_background": "light"
     },
     "output_type": "display_data"
    }
   ],
   "source": [
    "import matplotlib.pyplot as plt\n",
    "plt.bar(insta_handle,followers,color='pink',edgecolor='black')\n",
    "plt.xticks(rotation=40)\n",
    "plt.xlabel('instagram_handles')\n",
    "plt.ylabel('followers')\n",
    "plt.title('Top 5 food blogers followers')\n",
    "plt.show()"
   ]
  },
  {
   "cell_type": "code",
   "execution_count": 24,
   "metadata": {},
   "outputs": [
    {
     "data": {
      "image/png": "[encoded data removed]",
      "text/plain": [
       "<Figure size 432x288 with 1 Axes>"
      ]
     },
     "metadata": {
      "needs_background": "light"
     },
     "output_type": "display_data"
    }
   ],
   "source": [
    "import matplotlib.pyplot as plt\n",
    "plt.bar(insta_handle,posts,color='pink',edgecolor='black')\n",
    "plt.xticks(rotation=40)\n",
    "plt.xlabel('instagram_handles')\n",
    "plt.ylabel('posts')\n",
    "plt.title('Top 5 food blogers posts')\n",
    "plt.show()"
   ]
  },
  {
   "cell_type": "code",
   "execution_count": 29,
   "metadata": {},
   "outputs": [
    {
     "data": {
      "text/plain": [
       "'for key in top_5_handles.keys():\\n    p=top_5_handles[key]\\n    print(key)\\n    i=0\\n    for key in p:\\n        print(\"**************************post\",i+1,\"****************************************\")\\n        print(p[key])\\n        i=i+1\\n        print()'"
      ]
     },
     "execution_count": 29,
     "metadata": {},
     "output_type": "execute_result"
    }
   ],
   "source": [
    "import time\n",
    "top_5_handles={}\n",
    "for handle in insta_handle:\n",
    "    top_10_post={}\n",
    "    search = driver.find_element_by_xpath('//div[contains(@class,\"LWmhU\")]/input')           \n",
    "    search.send_keys(handle)\n",
    "    b = wait.until(EC.presence_of_element_located((By.CLASS_NAME,'z556c')))                  \n",
    "    first_search = driver.find_element_by_class_name('z556c')\n",
    "    first_search.click()\n",
    "    a= wait.until(EC.presence_of_element_located((By.XPATH,'//input[contains(@class,\"XTCLo\")]')))    \n",
    "    a.clear()\n",
    "    for i in range(1):\n",
    "        driver.execute_script('window.scrollBy(0,document.body.scrollHeight);')                      \n",
    "        time.sleep(1)\n",
    "    data=driver.find_elements_by_xpath('//div[contains(@class,\"_9AhH0\")]')                           \n",
    "    for j in range(1):\n",
    "        driver.execute_script('window.scrollBy(0,-document.body.scrollHeight);')                     \n",
    "        time.sleep(1)\n",
    "    driver.execute_script('window.scrollBy(0,500);')\n",
    "    post=driver.find_element_by_xpath('//div[contains(@class,\"_9AhH0\")]')                       \n",
    "    #driver.execute_script('window.scrollBy(0,80);')                                              \n",
    "    #driver.implicitly_wait(10) \n",
    "    #wait = WebDriverWait(driver, 10)\n",
    "    post.click() \n",
    "    for i in range(10):                                                                            \n",
    "        data=driver.find_element_by_xpath('//div[contains(@class,\"C4VMK\")]/span')                   \n",
    "        value=data.text                                                                             \n",
    "        top_10_post[\"post\"+str(i+1)]=value    \n",
    "        driver.find_element_by_class_name(\"_65Bje\").click()\n",
    "    driver.find_element_by_class_name(\"Igw0E.IwRSH.eGOV_._4EzTm.BI4qX.qJPeX.fm1AK.TxciK.yiMZG\").click()    \n",
    "    top_5_handles[handle]=top_10_post\n",
    "\n",
    "for key in top_5_handles.keys():\n",
    "    p=top_5_handles[key]\n",
    "    print(key)\n",
    "    i=0\n",
    "    for key in p:\n",
    "        print(\"**************************post\",i+1,\"****************************************\")\n",
    "        print(p[key])\n",
    "        i=i+1\n",
    "        print()"
   ]
  },
  {
   "cell_type": "code",
   "execution_count": 31,
   "metadata": {},
   "outputs": [
    {
     "name": "stdout",
     "output_type": "stream",
     "text": [
      "{'Chopped': 1, 'SharkWeek': 1, 'BestThingIEverAte': 1, 'TheKitchen': 1, 'recipe': 7, 'foodie': 7, 'sandwiches': 1, 'sandwichesofinstagram': 1, 'bombaysandwich': 1, 'foodiesofinstagram': 3, 'foodpics': 1, 'foodlover': 1, 'cravings': 1, 'streetfood': 6, 'indiancuisine': 6, 'comfortfood': 5, 'CookWithATwist': 3, 'stayhome': 1, 'staysafe': 1, 'contestalert': 2, 'sanjyotkeer': 3, 'MorphyRichards': 1, 'samosa': 1, 'samosalover': 1, 'chinese': 1, 'foodstagram': 2, 'mumbaifood': 2, 'mumbaistreetfood': 3, 'indianfood': 1, 'recipeoftheday': 1, 'paneer': 1, 'paneerrecipes': 1, 'paneerlove': 1, 'foodporn': 1, 'foodography': 1, 'dhabastyle': 1, 'dhabafood': 1, 'recipes': 1, 'momos': 1, 'momorecipe': 1, 'mumbai_ig': 1, 'mumbaifoodies': 1, 'foodphotos': 1, 'dilsefoodie': 9, 'AwesomenessWithSamsung': 1, 'AwesomeCity': 1, 'GalaxyA31': 1, 'GalaxyA51': 1, 'NewInTown': 1, 'HomeGrown': 1, 'Jameson': 1, 'IrishWhiskey': 1, 'AlwaysInToMixIn': 1, 'TrendTalk': 1, 'farzi': 1, 'InternationalBeerDay': 1, 'beerstagram': 1, 'LG': 1, 'Refrigerator.': 1, 'foodieincarnate': 7, 'lndiaStoreKaregaContest2': 1, 'LGlndependenceDaySpecial': 1, 'Foodieincarnate': 3}\n",
      "\n",
      "['Chopped', 'SharkWeek', 'BestThingIEverAte', 'TheKitchen', 'recipe', 'foodie', 'sandwiches', 'sandwichesofinstagram', 'bombaysandwich', 'foodiesofinstagram', 'foodpics', 'foodlover', 'cravings', 'streetfood', 'recipe', 'foodie', 'indiancuisine', 'streetfood', 'comfortfood', 'CookWithATwist', 'CookWithATwist', 'stayhome', 'staysafe', 'foodie', 'indiancuisine', 'contestalert', 'contestalert', 'sanjyotkeer', 'MorphyRichards', 'CookWithATwist', 'recipe', 'samosa', 'samosalover', 'chinese', 'foodstagram', 'foodiesofinstagram', 'mumbaifood', 'mumbaistreetfood', 'indianfood', 'sanjyotkeer', 'recipe', 'foodie', 'comfortfood', 'streetfood', 'indiancuisine', 'recipeoftheday', 'paneer', 'paneerrecipes', 'paneerlove', 'foodstagram', 'foodporn', 'foodography', 'mumbaistreetfood', 'dhabastyle', 'dhabafood', 'sanjyotkeer', 'recipe', 'foodie', 'indiancuisine', 'streetfood', 'comfortfood', 'recipe', 'foodie', 'comfortfood', 'indiancuisine', 'streetfood', 'recipes', 'momos', 'momorecipe', 'foodiesofinstagram', 'mumbaistreetfood', 'mumbai_ig', 'mumbaifoodies', 'mumbaifood', 'foodphotos', 'recipe', 'foodie', 'indiancuisine', 'comfortfood', 'streetfood', 'dilsefoodie', 'dilsefoodie', 'dilsefoodie', 'dilsefoodie', 'AwesomenessWithSamsung', 'AwesomeCity', 'GalaxyA31', 'GalaxyA51', 'dilsefoodie', 'dilsefoodie', 'dilsefoodie', 'dilsefoodie', 'dilsefoodie', 'NewInTown', 'HomeGrown', 'Jameson', 'IrishWhiskey', 'AlwaysInToMixIn', 'TrendTalk', 'farzi', 'InternationalBeerDay', 'beerstagram', 'LG', 'Refrigerator.', 'foodieincarnate', 'lndiaStoreKaregaContest2', 'LGlndependenceDaySpecial', 'foodieincarnate', 'foodieincarnate', 'Foodieincarnate', 'foodieincarnate', 'foodieincarnate', 'Foodieincarnate', 'foodieincarnate', 'foodieincarnate', 'Foodieincarnate']\n"
     ]
    }
   ],
   "source": [
    "totalfreq={}\n",
    "all_word=[]\n",
    "for key in top_5_handles.keys():\n",
    "    p=top_5_handles[key]\n",
    "    i=0\n",
    "    for key in p:\n",
    "        data=p[key]\n",
    "        s=data.split()\n",
    "        for k in s:\n",
    "            if k[0]=='#':                                                 \n",
    "                ans=k[1:]\n",
    "                all_word.append(ans)\n",
    "                if ans in totalfreq:\n",
    "                    totalfreq[ans]+=1\n",
    "                else:\n",
    "                    totalfreq[ans]=1\n",
    "print(totalfreq) \n",
    "print()\n",
    "print(all_word)"
   ]
  },
  {
   "cell_type": "code",
   "execution_count": 32,
   "metadata": {},
   "outputs": [
    {
     "name": "stdout",
     "output_type": "stream",
     "text": [
      "                        Word Frequency\n",
      "0                    Chopped         1\n",
      "1                  SharkWeek         1\n",
      "2          BestThingIEverAte         1\n",
      "3                 TheKitchen         1\n",
      "4                     recipe         7\n",
      "..                       ...       ...\n",
      "58             Refrigerator.         1\n",
      "59           foodieincarnate         7\n",
      "60  lndiaStoreKaregaContest2         1\n",
      "61  LGlndependenceDaySpecial         1\n",
      "62           Foodieincarnate         3\n",
      "\n",
      "[63 rows x 2 columns]\n"
     ]
    }
   ],
   "source": [
    "import pandas as pd\n",
    "import numpy as np\n",
    "li_2d=[]\n",
    "for i in totalfreq:\n",
    "    s=[]\n",
    "    s.append(i)\n",
    "    s.append(totalfreq[i])\n",
    "    li_2d.append(s)\n",
    "final_data=np.array(li_2d)\n",
    "dataset=pd.DataFrame({'Word':final_data[:,0],'Frequency':final_data[:,1]})\n",
    "dataset.to_csv('Frequency.csv',index=False)\n",
    "print(dataset)"
   ]
  },
  {
   "cell_type": "code",
   "execution_count": 33,
   "metadata": {},
   "outputs": [
    {
     "name": "stdout",
     "output_type": "stream",
     "text": [
      "('dilsefoodie', 9)\n",
      "('recipe', 7)\n",
      "('foodie', 7)\n",
      "('foodieincarnate', 7)\n",
      "('streetfood', 6)\n"
     ]
    }
   ],
   "source": [
    "t=1\n",
    "top_5_hash=[]\n",
    "top_5_times=[]\n",
    "for i in sorted (totalfreq.items(), key = lambda kv: kv[1],reverse=True):\n",
    "    top_5_hash.append(i[0])\n",
    "    top_5_times.append(i[1])\n",
    "    print(i)\n",
    "    t+=1\n",
    "    if t>5:\n",
    "        break\n"
   ]
  },
  {
   "cell_type": "code",
   "execution_count": 34,
   "metadata": {},
   "outputs": [
    {
     "data": {
      "image/png": "[encoded data removed]",
      "text/plain": [
       "<Figure size 432x288 with 1 Axes>"
      ]
     },
     "metadata": {},
     "output_type": "display_data"
    }
   ],
   "source": [
    "plt.pie(top_5_times,labels=top_5_hash,autopct=\"%.2f%%\")\n",
    "plt.show()"
   ]
  },
  {
   "cell_type": "code",
   "execution_count": 35,
   "metadata": {},
   "outputs": [],
   "source": []
  },
  {
   "cell_type": "code",
   "execution_count": 71,
   "metadata": {},
   "outputs": [
    {
     "ename": "ElementClickInterceptedException",
     "evalue": "Message: element click intercepted: Element <div class=\"_9AhH0\"></div> is not clickable at point (99, 22). Other element would receive the click: <img alt=\"Instagram\" class=\"s4Iyt\" src=\"/static/images/web/mobile_nav_type_logo.png/735145cfe0a4.png\" srcset=\"/static/images/web/mobile_nav_type_logo-2x.png/1b47f9d0e595.png 2x\">\n  (Session info: chrome=84.0.4147.125)\n",
     "output_type": "error",
     "traceback": [
      "\u001b[1;31m-----------------------------------------------------------------\u001b[0m",
      "\u001b[1;31mElementClickInterceptedException\u001b[0mTraceback (most recent call last)",
      "\u001b[1;32m<ipython-input-71-169bc7d5d1ac>\u001b[0m in \u001b[0;36m<module>\u001b[1;34m\u001b[0m\n\u001b[0;32m     30\u001b[0m             \u001b[1;31m#data[p].click()\u001b[0m\u001b[1;33m\u001b[0m\u001b[1;33m\u001b[0m\u001b[1;33m\u001b[0m\u001b[0m\n\u001b[0;32m     31\u001b[0m             \u001b[1;31m#driver.find_element_by_class_name(\"Igw0E.IwRSH.eGOV_._4EzTm.BI4qX.qJPeX.fm1AK.TxciK.yiMZG\").click()\u001b[0m\u001b[1;33m\u001b[0m\u001b[1;33m\u001b[0m\u001b[1;33m\u001b[0m\u001b[0m\n\u001b[1;32m---> 32\u001b[1;33m             \u001b[0mdriver\u001b[0m\u001b[1;33m.\u001b[0m\u001b[0mfind_element_by_xpath\u001b[0m\u001b[1;33m(\u001b[0m\u001b[1;34m'//div[contains(@class,\"_9AhH0\")]'\u001b[0m\u001b[1;33m)\u001b[0m\u001b[1;33m.\u001b[0m\u001b[0mclick\u001b[0m\u001b[1;33m(\u001b[0m\u001b[1;33m)\u001b[0m\u001b[1;33m\u001b[0m\u001b[1;33m\u001b[0m\u001b[0m\n\u001b[0m\u001b[0;32m     33\u001b[0m             \u001b[0mdriver\u001b[0m\u001b[1;33m.\u001b[0m\u001b[0mimplicitly_wait\u001b[0m\u001b[1;33m(\u001b[0m\u001b[1;36m10\u001b[0m\u001b[1;33m)\u001b[0m\u001b[1;33m\u001b[0m\u001b[1;33m\u001b[0m\u001b[0m\n\u001b[0;32m     34\u001b[0m             \u001b[0mdata\u001b[0m\u001b[1;33m=\u001b[0m\u001b[0mdriver\u001b[0m\u001b[1;33m.\u001b[0m\u001b[0mfind_element_by_xpath\u001b[0m\u001b[1;33m(\u001b[0m\u001b[1;34m'//button[contains(@class,\"sqdOP \")]//span'\u001b[0m\u001b[1;33m)\u001b[0m  \u001b[1;31m#find likes on post\u001b[0m\u001b[1;33m\u001b[0m\u001b[1;33m\u001b[0m\u001b[0m\n",
      "\u001b[1;32m~\\anaconda3\\lib\\site-packages\\selenium\\webdriver\\remote\\webelement.py\u001b[0m in \u001b[0;36mclick\u001b[1;34m(self)\u001b[0m\n\u001b[0;32m     78\u001b[0m     \u001b[1;32mdef\u001b[0m \u001b[0mclick\u001b[0m\u001b[1;33m(\u001b[0m\u001b[0mself\u001b[0m\u001b[1;33m)\u001b[0m\u001b[1;33m:\u001b[0m\u001b[1;33m\u001b[0m\u001b[1;33m\u001b[0m\u001b[0m\n\u001b[0;32m     79\u001b[0m         \u001b[1;34m\"\"\"Clicks the element.\"\"\"\u001b[0m\u001b[1;33m\u001b[0m\u001b[1;33m\u001b[0m\u001b[0m\n\u001b[1;32m---> 80\u001b[1;33m         \u001b[0mself\u001b[0m\u001b[1;33m.\u001b[0m\u001b[0m_execute\u001b[0m\u001b[1;33m(\u001b[0m\u001b[0mCommand\u001b[0m\u001b[1;33m.\u001b[0m\u001b[0mCLICK_ELEMENT\u001b[0m\u001b[1;33m)\u001b[0m\u001b[1;33m\u001b[0m\u001b[1;33m\u001b[0m\u001b[0m\n\u001b[0m\u001b[0;32m     81\u001b[0m \u001b[1;33m\u001b[0m\u001b[0m\n\u001b[0;32m     82\u001b[0m     \u001b[1;32mdef\u001b[0m \u001b[0msubmit\u001b[0m\u001b[1;33m(\u001b[0m\u001b[0mself\u001b[0m\u001b[1;33m)\u001b[0m\u001b[1;33m:\u001b[0m\u001b[1;33m\u001b[0m\u001b[1;33m\u001b[0m\u001b[0m\n",
      "\u001b[1;32m~\\anaconda3\\lib\\site-packages\\selenium\\webdriver\\remote\\webelement.py\u001b[0m in \u001b[0;36m_execute\u001b[1;34m(self, command, params)\u001b[0m\n\u001b[0;32m    631\u001b[0m             \u001b[0mparams\u001b[0m \u001b[1;33m=\u001b[0m \u001b[1;33m{\u001b[0m\u001b[1;33m}\u001b[0m\u001b[1;33m\u001b[0m\u001b[1;33m\u001b[0m\u001b[0m\n\u001b[0;32m    632\u001b[0m         \u001b[0mparams\u001b[0m\u001b[1;33m[\u001b[0m\u001b[1;34m'id'\u001b[0m\u001b[1;33m]\u001b[0m \u001b[1;33m=\u001b[0m \u001b[0mself\u001b[0m\u001b[1;33m.\u001b[0m\u001b[0m_id\u001b[0m\u001b[1;33m\u001b[0m\u001b[1;33m\u001b[0m\u001b[0m\n\u001b[1;32m--> 633\u001b[1;33m         \u001b[1;32mreturn\u001b[0m \u001b[0mself\u001b[0m\u001b[1;33m.\u001b[0m\u001b[0m_parent\u001b[0m\u001b[1;33m.\u001b[0m\u001b[0mexecute\u001b[0m\u001b[1;33m(\u001b[0m\u001b[0mcommand\u001b[0m\u001b[1;33m,\u001b[0m \u001b[0mparams\u001b[0m\u001b[1;33m)\u001b[0m\u001b[1;33m\u001b[0m\u001b[1;33m\u001b[0m\u001b[0m\n\u001b[0m\u001b[0;32m    634\u001b[0m \u001b[1;33m\u001b[0m\u001b[0m\n\u001b[0;32m    635\u001b[0m     \u001b[1;32mdef\u001b[0m \u001b[0mfind_element\u001b[0m\u001b[1;33m(\u001b[0m\u001b[0mself\u001b[0m\u001b[1;33m,\u001b[0m \u001b[0mby\u001b[0m\u001b[1;33m=\u001b[0m\u001b[0mBy\u001b[0m\u001b[1;33m.\u001b[0m\u001b[0mID\u001b[0m\u001b[1;33m,\u001b[0m \u001b[0mvalue\u001b[0m\u001b[1;33m=\u001b[0m\u001b[1;32mNone\u001b[0m\u001b[1;33m)\u001b[0m\u001b[1;33m:\u001b[0m\u001b[1;33m\u001b[0m\u001b[1;33m\u001b[0m\u001b[0m\n",
      "\u001b[1;32m~\\anaconda3\\lib\\site-packages\\selenium\\webdriver\\remote\\webdriver.py\u001b[0m in \u001b[0;36mexecute\u001b[1;34m(self, driver_command, params)\u001b[0m\n\u001b[0;32m    319\u001b[0m         \u001b[0mresponse\u001b[0m \u001b[1;33m=\u001b[0m \u001b[0mself\u001b[0m\u001b[1;33m.\u001b[0m\u001b[0mcommand_executor\u001b[0m\u001b[1;33m.\u001b[0m\u001b[0mexecute\u001b[0m\u001b[1;33m(\u001b[0m\u001b[0mdriver_command\u001b[0m\u001b[1;33m,\u001b[0m \u001b[0mparams\u001b[0m\u001b[1;33m)\u001b[0m\u001b[1;33m\u001b[0m\u001b[1;33m\u001b[0m\u001b[0m\n\u001b[0;32m    320\u001b[0m         \u001b[1;32mif\u001b[0m \u001b[0mresponse\u001b[0m\u001b[1;33m:\u001b[0m\u001b[1;33m\u001b[0m\u001b[1;33m\u001b[0m\u001b[0m\n\u001b[1;32m--> 321\u001b[1;33m             \u001b[0mself\u001b[0m\u001b[1;33m.\u001b[0m\u001b[0merror_handler\u001b[0m\u001b[1;33m.\u001b[0m\u001b[0mcheck_response\u001b[0m\u001b[1;33m(\u001b[0m\u001b[0mresponse\u001b[0m\u001b[1;33m)\u001b[0m\u001b[1;33m\u001b[0m\u001b[1;33m\u001b[0m\u001b[0m\n\u001b[0m\u001b[0;32m    322\u001b[0m             response['value'] = self._unwrap_value(\n\u001b[0;32m    323\u001b[0m                 response.get('value', None))\n",
      "\u001b[1;32m~\\anaconda3\\lib\\site-packages\\selenium\\webdriver\\remote\\errorhandler.py\u001b[0m in \u001b[0;36mcheck_response\u001b[1;34m(self, response)\u001b[0m\n\u001b[0;32m    240\u001b[0m                 \u001b[0malert_text\u001b[0m \u001b[1;33m=\u001b[0m \u001b[0mvalue\u001b[0m\u001b[1;33m[\u001b[0m\u001b[1;34m'alert'\u001b[0m\u001b[1;33m]\u001b[0m\u001b[1;33m.\u001b[0m\u001b[0mget\u001b[0m\u001b[1;33m(\u001b[0m\u001b[1;34m'text'\u001b[0m\u001b[1;33m)\u001b[0m\u001b[1;33m\u001b[0m\u001b[1;33m\u001b[0m\u001b[0m\n\u001b[0;32m    241\u001b[0m             \u001b[1;32mraise\u001b[0m \u001b[0mexception_class\u001b[0m\u001b[1;33m(\u001b[0m\u001b[0mmessage\u001b[0m\u001b[1;33m,\u001b[0m \u001b[0mscreen\u001b[0m\u001b[1;33m,\u001b[0m \u001b[0mstacktrace\u001b[0m\u001b[1;33m,\u001b[0m \u001b[0malert_text\u001b[0m\u001b[1;33m)\u001b[0m\u001b[1;33m\u001b[0m\u001b[1;33m\u001b[0m\u001b[0m\n\u001b[1;32m--> 242\u001b[1;33m         \u001b[1;32mraise\u001b[0m \u001b[0mexception_class\u001b[0m\u001b[1;33m(\u001b[0m\u001b[0mmessage\u001b[0m\u001b[1;33m,\u001b[0m \u001b[0mscreen\u001b[0m\u001b[1;33m,\u001b[0m \u001b[0mstacktrace\u001b[0m\u001b[1;33m)\u001b[0m\u001b[1;33m\u001b[0m\u001b[1;33m\u001b[0m\u001b[0m\n\u001b[0m\u001b[0;32m    243\u001b[0m \u001b[1;33m\u001b[0m\u001b[0m\n\u001b[0;32m    244\u001b[0m     \u001b[1;32mdef\u001b[0m \u001b[0m_value_or_default\u001b[0m\u001b[1;33m(\u001b[0m\u001b[0mself\u001b[0m\u001b[1;33m,\u001b[0m \u001b[0mobj\u001b[0m\u001b[1;33m,\u001b[0m \u001b[0mkey\u001b[0m\u001b[1;33m,\u001b[0m \u001b[0mdefault\u001b[0m\u001b[1;33m)\u001b[0m\u001b[1;33m:\u001b[0m\u001b[1;33m\u001b[0m\u001b[1;33m\u001b[0m\u001b[0m\n",
      "\u001b[1;31mElementClickInterceptedException\u001b[0m: Message: element click intercepted: Element <div class=\"_9AhH0\"></div> is not clickable at point (99, 22). Other element would receive the click: <img alt=\"Instagram\" class=\"s4Iyt\" src=\"/static/images/web/mobile_nav_type_logo.png/735145cfe0a4.png\" srcset=\"/static/images/web/mobile_nav_type_logo-2x.png/1b47f9d0e595.png 2x\">\n  (Session info: chrome=84.0.4147.125)\n"
     ]
    }
   ],
   "source": [
    "from selenium.common.exceptions import NoSuchElementException               #to check for exception\n",
    "top_5_post_like={}                                                          #dictionary for top five post\n",
    "for t in insta_handle:                                                        \n",
    "    post_likes={}\n",
    "    count=0\n",
    "    data=driver.find_element_by_xpath('//input[contains(@class,\"XTCLo\")]')  #input box\n",
    "    data.send_keys(t)                                                       #send handle\n",
    "    driver.implicitly_wait(10)\n",
    "    data=driver.find_element_by_xpath('//span[contains(@class,\"Ap253\")]')   #first search\n",
    "    data.click()\n",
    "    driver.implicitly_wait(10)\n",
    "    for i in range(12):\n",
    "        driver.execute_script('window.scrollBy(0,2000);')                  #scroll by 2000\n",
    "        time.sleep(1)\n",
    "    data=driver.find_elements_by_xpath('//div[contains(@class,\"_9AhH0\")]') #fetch the elements\n",
    "    for j in range(12): \n",
    "        driver.execute_script('window.scrollBy(0,-2000);')                 #scroll by 2000\n",
    "        time.sleep(1)\n",
    "    driver.execute_script('window.scrollBy(0,500);')                       #make in proper place f post\n",
    "    final=data\n",
    "    driver.implicitly_wait(10)\n",
    "    for p in range(len(final)):\n",
    "        if count>9:\n",
    "            break  \n",
    "        try:\n",
    "            data=driver.find_elements_by_xpath('//div[contains(@class,\"_9AhH0\")]')  #fetch post\n",
    "            driver.execute_script('window.scrollBy(0,80);')\n",
    "            final=len(data)\n",
    "            driver.implicitly_wait(10)\n",
    "            #data[p].click()\n",
    "            #driver.find_element_by_class_name(\"Igw0E.IwRSH.eGOV_._4EzTm.BI4qX.qJPeX.fm1AK.TxciK.yiMZG\").click()\n",
    "            driver.find_element_by_xpath('//div[contains(@class,\"_9AhH0\")]').click()\n",
    "            driver.implicitly_wait(10)\n",
    "            data=driver.find_element_by_xpath('//button[contains(@class,\"sqdOP \")]//span')  #find likes on post\n",
    "            val=data.text\n",
    "            driver.find_element_by_class_name(\"_65Bje\").click()\n",
    "\n",
    "            if val=='':\n",
    "                #new=driver.find_element_by_xpath('//button[contains(@class,\"ckWGn\")]')     #close post\n",
    "                #new.click()\n",
    "                driver.find_element_by_class_name(\"Igw0E.IwRSH.eGOV_._4EzTm.BI4qX.qJPeX.fm1AK.TxciK.yiMZG\").click()\n",
    "                continue\n",
    "            if val[0]=='V':\n",
    "                #new=driver.find_element_by_xpath('//button[contains(@class,\"ckWGn\")]')\n",
    "                #new.click()\n",
    "                driver.find_element_by_class_name(\"Igw0E.IwRSH.eGOV_._4EzTm.BI4qX.qJPeX.fm1AK.TxciK.yiMZG\").click()\n",
    "                continue\n",
    "            val=val.replace(',','')\n",
    "            ans=val\n",
    "            count=count+1\n",
    "            number='post'+str(count)\n",
    "            post_likes[number]=ans\n",
    "            #new=driver.find_element_by_xpath('//button[contains(@class,\"ckWGn\")]')\n",
    "            #new.click()\n",
    "            driver.find_element_by_class_name(\"Igw0E.IwRSH.eGOV_._4EzTm.BI4qX.qJPeX.fm1AK.TxciK.yiMZG\").click()\n",
    "        except NoSuchElementException:\n",
    "            driver.find_element_by_class_name(\"Igw0E.IwRSH.eGOV_._4EzTm.BI4qX.qJPeX.fm1AK.TxciK.yiMZG\").click()\n",
    "            #new=driver.find_element_by_xpath('//button[contains(@class,\"ckWGn\")]')\n",
    "            #new.click()\n",
    "    \n",
    "    top_5_post_like[t]=post_likes\n",
    "print(top_5_post_likes)"
   ]
  },
  {
   "cell_type": "code",
   "execution_count": 72,
   "metadata": {},
   "outputs": [
    {
     "name": "stdout",
     "output_type": "stream",
     "text": [
      "foodnetwork    13670.43\n",
      "yourfoodlab    86358.00\n",
      "foodrush.recipe    1363.80\n",
      "foodtalkindia    3447.00\n",
      "foodmaniacindia    3580.40\n"
     ]
    }
   ],
   "source": [
    "average_5_handle={}\n",
    "for i in top_5_post_likes:\n",
    "    c=0\n",
    "    tsum=0\n",
    "    d=top_5_post_likes[i]\n",
    "    for j in d:\n",
    "        c=c+1\n",
    "        tsum+=d[j]\n",
    "        average=tsum/c\n",
    "    average_5_handle[i]=average\n",
    "for key in average_5_handle.keys():\n",
    "    print(key,end=\"    \")\n",
    "    print(\"{0:.2f}\".format(average_5_handle[key]))"
   ]
  },
  {
   "cell_type": "code",
   "execution_count": 73,
   "metadata": {},
   "outputs": [
    {
     "ename": "NameError",
     "evalue": "name 'max_follow' is not defined",
     "output_type": "error",
     "traceback": [
      "\u001b[1;31m-----------------------------------------------------------------\u001b[0m",
      "\u001b[1;31mNameError\u001b[0m                       Traceback (most recent call last)",
      "\u001b[1;32m<ipython-input-73-dba6d0272573>\u001b[0m in \u001b[0;36m<module>\u001b[1;34m\u001b[0m\n\u001b[0;32m      2\u001b[0m \u001b[0mavg_follower\u001b[0m  \u001b[1;33m=\u001b[0m \u001b[1;33m[\u001b[0m\u001b[1;33m]\u001b[0m\u001b[1;33m\u001b[0m\u001b[1;33m\u001b[0m\u001b[0m\n\u001b[0;32m      3\u001b[0m \u001b[1;32mfor\u001b[0m \u001b[0mkey\u001b[0m \u001b[1;32min\u001b[0m \u001b[0maverage_5_handle\u001b[0m\u001b[1;33m.\u001b[0m\u001b[0mkeys\u001b[0m\u001b[1;33m(\u001b[0m\u001b[1;33m)\u001b[0m\u001b[1;33m:\u001b[0m\u001b[1;33m\u001b[0m\u001b[1;33m\u001b[0m\u001b[0m\n\u001b[1;32m----> 4\u001b[1;33m     \u001b[0mavg\u001b[0m \u001b[1;33m=\u001b[0m \u001b[0maverage_5_handle\u001b[0m\u001b[1;33m[\u001b[0m\u001b[0mkey\u001b[0m\u001b[1;33m]\u001b[0m\u001b[1;33m/\u001b[0m\u001b[0mmax_follow\u001b[0m\u001b[1;33m[\u001b[0m\u001b[0mi\u001b[0m\u001b[1;33m]\u001b[0m\u001b[1;33m\u001b[0m\u001b[1;33m\u001b[0m\u001b[0m\n\u001b[0m\u001b[0;32m      5\u001b[0m     \u001b[0mavg_follower\u001b[0m\u001b[1;33m.\u001b[0m\u001b[0mappend\u001b[0m\u001b[1;33m(\u001b[0m\u001b[0mavg\u001b[0m\u001b[1;33m)\u001b[0m\u001b[1;33m\u001b[0m\u001b[1;33m\u001b[0m\u001b[0m\n\u001b[0;32m      6\u001b[0m     \u001b[0mprint\u001b[0m\u001b[1;33m(\u001b[0m\u001b[0mkey\u001b[0m\u001b[1;33m,\u001b[0m\u001b[1;34m\"     \"\u001b[0m\u001b[1;33m,\u001b[0m\u001b[0mavg\u001b[0m\u001b[1;33m)\u001b[0m\u001b[1;33m\u001b[0m\u001b[1;33m\u001b[0m\u001b[0m\n",
      "\u001b[1;31mNameError\u001b[0m: name 'max_follow' is not defined"
     ]
    }
   ],
   "source": [
    "i=0\n",
    "avg_follower  = []\n",
    "for key in average_5_handle.keys():\n",
    "    avg = average_5_handle[key]/max_follow[i]\n",
    "    avg_follower.append(avg)\n",
    "    print(key,\"     \",avg)\n",
    "    i=i+1"
   ]
  },
  {
   "cell_type": "code",
   "execution_count": 75,
   "metadata": {},
   "outputs": [
    {
     "ename": "ValueError",
     "evalue": "shape mismatch: objects cannot be broadcast to a single shape",
     "output_type": "error",
     "traceback": [
      "\u001b[1;31m-----------------------------------------------------------------\u001b[0m",
      "\u001b[1;31mValueError\u001b[0m                      Traceback (most recent call last)",
      "\u001b[1;32m<ipython-input-75-4c5753f1b94e>\u001b[0m in \u001b[0;36m<module>\u001b[1;34m\u001b[0m\n\u001b[1;32m----> 1\u001b[1;33m \u001b[0mplt\u001b[0m\u001b[1;33m.\u001b[0m\u001b[0mbar\u001b[0m\u001b[1;33m(\u001b[0m\u001b[0minsta_handle\u001b[0m\u001b[1;33m,\u001b[0m\u001b[0mavg_follower\u001b[0m\u001b[1;33m)\u001b[0m\u001b[1;33m\u001b[0m\u001b[1;33m\u001b[0m\u001b[0m\n\u001b[0m\u001b[0;32m      2\u001b[0m \u001b[0mplt\u001b[0m\u001b[1;33m.\u001b[0m\u001b[0mxticks\u001b[0m\u001b[1;33m(\u001b[0m\u001b[0mrotation\u001b[0m\u001b[1;33m=\u001b[0m\u001b[1;36m90\u001b[0m\u001b[1;33m)\u001b[0m\u001b[1;33m\u001b[0m\u001b[1;33m\u001b[0m\u001b[0m\n\u001b[0;32m      3\u001b[0m \u001b[0mplt\u001b[0m\u001b[1;33m.\u001b[0m\u001b[0mxlabel\u001b[0m\u001b[1;33m(\u001b[0m\u001b[1;34m'Handles'\u001b[0m\u001b[1;33m)\u001b[0m\u001b[1;33m\u001b[0m\u001b[1;33m\u001b[0m\u001b[0m\n\u001b[0;32m      4\u001b[0m \u001b[0mplt\u001b[0m\u001b[1;33m.\u001b[0m\u001b[0mylabel\u001b[0m\u001b[1;33m(\u001b[0m\u001b[1;34m'Like vs Followers ratio'\u001b[0m\u001b[1;33m)\u001b[0m\u001b[1;33m\u001b[0m\u001b[1;33m\u001b[0m\u001b[0m\n\u001b[0;32m      5\u001b[0m \u001b[0mplt\u001b[0m\u001b[1;33m.\u001b[0m\u001b[0mtitle\u001b[0m\u001b[1;33m(\u001b[0m\u001b[1;34m'Handle vs Like Followers Ratio'\u001b[0m\u001b[1;33m)\u001b[0m\u001b[1;33m\u001b[0m\u001b[1;33m\u001b[0m\u001b[0m\n",
      "\u001b[1;32m~\\anaconda3\\lib\\site-packages\\matplotlib\\pyplot.py\u001b[0m in \u001b[0;36mbar\u001b[1;34m(x, height, width, bottom, align, data, **kwargs)\u001b[0m\n\u001b[0;32m   2439\u001b[0m     return gca().bar(\n\u001b[0;32m   2440\u001b[0m         \u001b[0mx\u001b[0m\u001b[1;33m,\u001b[0m \u001b[0mheight\u001b[0m\u001b[1;33m,\u001b[0m \u001b[0mwidth\u001b[0m\u001b[1;33m=\u001b[0m\u001b[0mwidth\u001b[0m\u001b[1;33m,\u001b[0m \u001b[0mbottom\u001b[0m\u001b[1;33m=\u001b[0m\u001b[0mbottom\u001b[0m\u001b[1;33m,\u001b[0m \u001b[0malign\u001b[0m\u001b[1;33m=\u001b[0m\u001b[0malign\u001b[0m\u001b[1;33m,\u001b[0m\u001b[1;33m\u001b[0m\u001b[1;33m\u001b[0m\u001b[0m\n\u001b[1;32m-> 2441\u001b[1;33m         **({\"data\": data} if data is not None else {}), **kwargs)\n\u001b[0m\u001b[0;32m   2442\u001b[0m \u001b[1;33m\u001b[0m\u001b[0m\n\u001b[0;32m   2443\u001b[0m \u001b[1;33m\u001b[0m\u001b[0m\n",
      "\u001b[1;32m~\\anaconda3\\lib\\site-packages\\matplotlib\\__init__.py\u001b[0m in \u001b[0;36minner\u001b[1;34m(ax, data, *args, **kwargs)\u001b[0m\n\u001b[0;32m   1597\u001b[0m     \u001b[1;32mdef\u001b[0m \u001b[0minner\u001b[0m\u001b[1;33m(\u001b[0m\u001b[0max\u001b[0m\u001b[1;33m,\u001b[0m \u001b[1;33m*\u001b[0m\u001b[0margs\u001b[0m\u001b[1;33m,\u001b[0m \u001b[0mdata\u001b[0m\u001b[1;33m=\u001b[0m\u001b[1;32mNone\u001b[0m\u001b[1;33m,\u001b[0m \u001b[1;33m**\u001b[0m\u001b[0mkwargs\u001b[0m\u001b[1;33m)\u001b[0m\u001b[1;33m:\u001b[0m\u001b[1;33m\u001b[0m\u001b[1;33m\u001b[0m\u001b[0m\n\u001b[0;32m   1598\u001b[0m         \u001b[1;32mif\u001b[0m \u001b[0mdata\u001b[0m \u001b[1;32mis\u001b[0m \u001b[1;32mNone\u001b[0m\u001b[1;33m:\u001b[0m\u001b[1;33m\u001b[0m\u001b[1;33m\u001b[0m\u001b[0m\n\u001b[1;32m-> 1599\u001b[1;33m             \u001b[1;32mreturn\u001b[0m \u001b[0mfunc\u001b[0m\u001b[1;33m(\u001b[0m\u001b[0max\u001b[0m\u001b[1;33m,\u001b[0m \u001b[1;33m*\u001b[0m\u001b[0mmap\u001b[0m\u001b[1;33m(\u001b[0m\u001b[0msanitize_sequence\u001b[0m\u001b[1;33m,\u001b[0m \u001b[0margs\u001b[0m\u001b[1;33m)\u001b[0m\u001b[1;33m,\u001b[0m \u001b[1;33m**\u001b[0m\u001b[0mkwargs\u001b[0m\u001b[1;33m)\u001b[0m\u001b[1;33m\u001b[0m\u001b[1;33m\u001b[0m\u001b[0m\n\u001b[0m\u001b[0;32m   1600\u001b[0m \u001b[1;33m\u001b[0m\u001b[0m\n\u001b[0;32m   1601\u001b[0m         \u001b[0mbound\u001b[0m \u001b[1;33m=\u001b[0m \u001b[0mnew_sig\u001b[0m\u001b[1;33m.\u001b[0m\u001b[0mbind\u001b[0m\u001b[1;33m(\u001b[0m\u001b[0max\u001b[0m\u001b[1;33m,\u001b[0m \u001b[1;33m*\u001b[0m\u001b[0margs\u001b[0m\u001b[1;33m,\u001b[0m \u001b[1;33m**\u001b[0m\u001b[0mkwargs\u001b[0m\u001b[1;33m)\u001b[0m\u001b[1;33m\u001b[0m\u001b[1;33m\u001b[0m\u001b[0m\n",
      "\u001b[1;32m~\\anaconda3\\lib\\site-packages\\matplotlib\\axes\\_axes.py\u001b[0m in \u001b[0;36mbar\u001b[1;34m(self, x, height, width, bottom, align, **kwargs)\u001b[0m\n\u001b[0;32m   2372\u001b[0m         x, height, width, y, linewidth = np.broadcast_arrays(\n\u001b[0;32m   2373\u001b[0m             \u001b[1;31m# Make args iterable too.\u001b[0m\u001b[1;33m\u001b[0m\u001b[1;33m\u001b[0m\u001b[1;33m\u001b[0m\u001b[0m\n\u001b[1;32m-> 2374\u001b[1;33m             np.atleast_1d(x), height, width, y, linewidth)\n\u001b[0m\u001b[0;32m   2375\u001b[0m \u001b[1;33m\u001b[0m\u001b[0m\n\u001b[0;32m   2376\u001b[0m         \u001b[1;31m# Now that units have been converted, set the tick locations.\u001b[0m\u001b[1;33m\u001b[0m\u001b[1;33m\u001b[0m\u001b[1;33m\u001b[0m\u001b[0m\n",
      "\u001b[1;32m<__array_function__ internals>\u001b[0m in \u001b[0;36mbroadcast_arrays\u001b[1;34m(*args, **kwargs)\u001b[0m\n",
      "\u001b[1;32m~\\anaconda3\\lib\\site-packages\\numpy\\lib\\stride_tricks.py\u001b[0m in \u001b[0;36mbroadcast_arrays\u001b[1;34m(*args, **kwargs)\u001b[0m\n\u001b[0;32m    262\u001b[0m     \u001b[0margs\u001b[0m \u001b[1;33m=\u001b[0m \u001b[1;33m[\u001b[0m\u001b[0mnp\u001b[0m\u001b[1;33m.\u001b[0m\u001b[0marray\u001b[0m\u001b[1;33m(\u001b[0m\u001b[0m_m\u001b[0m\u001b[1;33m,\u001b[0m \u001b[0mcopy\u001b[0m\u001b[1;33m=\u001b[0m\u001b[1;32mFalse\u001b[0m\u001b[1;33m,\u001b[0m \u001b[0msubok\u001b[0m\u001b[1;33m=\u001b[0m\u001b[0msubok\u001b[0m\u001b[1;33m)\u001b[0m \u001b[1;32mfor\u001b[0m \u001b[0m_m\u001b[0m \u001b[1;32min\u001b[0m \u001b[0margs\u001b[0m\u001b[1;33m]\u001b[0m\u001b[1;33m\u001b[0m\u001b[1;33m\u001b[0m\u001b[0m\n\u001b[0;32m    263\u001b[0m \u001b[1;33m\u001b[0m\u001b[0m\n\u001b[1;32m--> 264\u001b[1;33m     \u001b[0mshape\u001b[0m \u001b[1;33m=\u001b[0m \u001b[0m_broadcast_shape\u001b[0m\u001b[1;33m(\u001b[0m\u001b[1;33m*\u001b[0m\u001b[0margs\u001b[0m\u001b[1;33m)\u001b[0m\u001b[1;33m\u001b[0m\u001b[1;33m\u001b[0m\u001b[0m\n\u001b[0m\u001b[0;32m    265\u001b[0m \u001b[1;33m\u001b[0m\u001b[0m\n\u001b[0;32m    266\u001b[0m     \u001b[1;32mif\u001b[0m \u001b[0mall\u001b[0m\u001b[1;33m(\u001b[0m\u001b[0marray\u001b[0m\u001b[1;33m.\u001b[0m\u001b[0mshape\u001b[0m \u001b[1;33m==\u001b[0m \u001b[0mshape\u001b[0m \u001b[1;32mfor\u001b[0m \u001b[0marray\u001b[0m \u001b[1;32min\u001b[0m \u001b[0margs\u001b[0m\u001b[1;33m)\u001b[0m\u001b[1;33m:\u001b[0m\u001b[1;33m\u001b[0m\u001b[1;33m\u001b[0m\u001b[0m\n",
      "\u001b[1;32m~\\anaconda3\\lib\\site-packages\\numpy\\lib\\stride_tricks.py\u001b[0m in \u001b[0;36m_broadcast_shape\u001b[1;34m(*args)\u001b[0m\n\u001b[0;32m    189\u001b[0m     \u001b[1;31m# use the old-iterator because np.nditer does not handle size 0 arrays\u001b[0m\u001b[1;33m\u001b[0m\u001b[1;33m\u001b[0m\u001b[1;33m\u001b[0m\u001b[0m\n\u001b[0;32m    190\u001b[0m     \u001b[1;31m# consistently\u001b[0m\u001b[1;33m\u001b[0m\u001b[1;33m\u001b[0m\u001b[1;33m\u001b[0m\u001b[0m\n\u001b[1;32m--> 191\u001b[1;33m     \u001b[0mb\u001b[0m \u001b[1;33m=\u001b[0m \u001b[0mnp\u001b[0m\u001b[1;33m.\u001b[0m\u001b[0mbroadcast\u001b[0m\u001b[1;33m(\u001b[0m\u001b[1;33m*\u001b[0m\u001b[0margs\u001b[0m\u001b[1;33m[\u001b[0m\u001b[1;33m:\u001b[0m\u001b[1;36m32\u001b[0m\u001b[1;33m]\u001b[0m\u001b[1;33m)\u001b[0m\u001b[1;33m\u001b[0m\u001b[1;33m\u001b[0m\u001b[0m\n\u001b[0m\u001b[0;32m    192\u001b[0m     \u001b[1;31m# unfortunately, it cannot handle 32 or more arguments directly\u001b[0m\u001b[1;33m\u001b[0m\u001b[1;33m\u001b[0m\u001b[1;33m\u001b[0m\u001b[0m\n\u001b[0;32m    193\u001b[0m     \u001b[1;32mfor\u001b[0m \u001b[0mpos\u001b[0m \u001b[1;32min\u001b[0m \u001b[0mrange\u001b[0m\u001b[1;33m(\u001b[0m\u001b[1;36m32\u001b[0m\u001b[1;33m,\u001b[0m \u001b[0mlen\u001b[0m\u001b[1;33m(\u001b[0m\u001b[0margs\u001b[0m\u001b[1;33m)\u001b[0m\u001b[1;33m,\u001b[0m \u001b[1;36m31\u001b[0m\u001b[1;33m)\u001b[0m\u001b[1;33m:\u001b[0m\u001b[1;33m\u001b[0m\u001b[1;33m\u001b[0m\u001b[0m\n",
      "\u001b[1;31mValueError\u001b[0m: shape mismatch: objects cannot be broadcast to a single shape"
     ]
    },
    {
     "data": {
      "image/png": "[encoded data removed]",
      "text/plain": [
       "<Figure size 432x288 with 1 Axes>"
      ]
     },
     "metadata": {
      "needs_background": "light"
     },
     "output_type": "display_data"
    }
   ],
   "source": [
    "plt.bar(insta_handle,avg_follower)\n",
    "plt.xticks(rotation=90)\n",
    "plt.xlabel('Handles')\n",
    "plt.ylabel('Like vs Followers ratio')\n",
    "plt.title('Handle vs Like Followers Ratio')\n",
    "plt.show()"
   ]
  },
  {
   "cell_type": "code",
   "execution_count": null,
   "metadata": {},
   "outputs": [],
   "source": []
  },
  {
   "cell_type": "code",
   "execution_count": null,
   "metadata": {},
   "outputs": [],
   "source": []
  },
  {
   "cell_type": "code",
   "execution_count": null,
   "metadata": {},
   "outputs": [],
   "source": []
  }
 ],
 "metadata": {
  "kernelspec": {
   "display_name": "Python 3",
   "language": "python",
   "name": "python3"
  },
  "language_info": {
   "codemirror_mode": {
    "name": "ipython",
    "version": 3
   },
   "file_extension": ".py",
   "mimetype": "text/x-python",
   "name": "python",
   "nbconvert_exporter": "python",
   "pygments_lexer": "ipython3",
   "version": "3.7.6"
  }
 },
 "nbformat": 4,
 "nbformat_minor": 4
}
